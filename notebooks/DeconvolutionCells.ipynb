{
 "cells": [
  {
   "cell_type": "code",
   "execution_count": null,
   "id": "fb7728c4",
   "metadata": {
    "ExecuteTime": {
     "end_time": "2023-04-25T05:56:37.326850Z",
     "start_time": "2023-04-25T05:56:37.320819Z"
    },
    "init_cell": true,
    "slideshow": {
     "slide_type": "skip"
    }
   },
   "outputs": [],
   "source": [
    "import time as t\n",
    "import warnings\n",
    "from functools import partial\n",
    "\n",
    "import matplotlib.pyplot as plt\n",
    "import napari\n",
    "import numpy as np\n",
    "import scipy as sp\n",
    "import scipy.signal\n",
    "import skimage.io\n",
    "from jupyter_compare_view import compare\n",
    "from pycsou.abc import DiffFunc, DiffMap, LinOp, Map, ProxFunc\n",
    "from pycsou.operator import SquaredL2Norm\n",
    "from pycsou.operator.interop import from_sciop, from_source, from_torch\n",
    "from pycsou.operator.interop.torch import *\n",
    "from pycsou.runtime import Precision, Width, enforce_precision\n",
    "from pycsou.util import get_array_module, to_NUMPY\n",
    "\n",
    "warnings.filterwarnings(\"ignore\")\n",
    "\n",
    "plt.style.use(\"seaborn-darkgrid\")\n",
    "plt.rcParams[\"figure.figsize\"] = [9, 6]\n",
    "plt.rcParams[\"figure.dpi\"] = 150\n",
    "plt.rcParams[\"axes.grid\"] = False\n",
    "plt.rcParams[\"image.cmap\"] = \"viridis\"\n",
    "\n",
    "rng = np.random.default_rng(seed=0)\n",
    "\n",
    "\n",
    "def monochromatic(im, chan=0):\n",
    "    out = im.copy()\n",
    "    xp = get_array_module(im)\n",
    "    mask = xp.ones(im.shape, dtype=bool)\n",
    "    mask[chan] = False\n",
    "    out[mask] = 0\n",
    "    return out\n",
    "\n",
    "\n",
    "def imshow(im, rgb=False):\n",
    "    im = to_NUMPY(im)\n",
    "    if im.ndim > 2 and rgb:\n",
    "        plt.subplot(2, 2, 1)\n",
    "        plt.imshow(np.moveaxis(im, 0, -1))\n",
    "        plt.subplot(2, 2, 2)\n",
    "        plt.imshow(np.moveaxis(monochromatic(im, 0), 0, -1))\n",
    "        plt.subplot(2, 2, 3)\n",
    "        plt.imshow(np.moveaxis(monochromatic(im, 1), 0, -1))\n",
    "        plt.subplot(2, 2, 4)\n",
    "        plt.imshow(np.moveaxis(monochromatic(im, 2), 0, -1))\n",
    "    elif im.ndim > 2 and not rgb:\n",
    "        plt.imshow(np.moveaxis(im, 0, -1))\n",
    "    else:\n",
    "        plt.imshow(im, cmap=\"gray\")\n",
    "    plt.axis(\"off\")\n",
    "\n",
    "\n",
    "def imshow_compare(*images, **kwargs):\n",
    "    images = [to_NUMPY(im) for im in images]\n",
    "    images = [np.clip(im, 0, 1) for im in images]\n",
    "    images = [np.moveaxis(im, 0, -1) if im.ndim > 2 else im for im in images]\n",
    "    return compare(\n",
    "        *images, height=700, add_controls=True, display_format=\"jpg\", **kwargs\n",
    "    )\n",
    "\n",
    "\n",
    "warnings.filterwarnings(\"ignore\")"
   ]
  },
  {
   "cell_type": "markdown",
   "id": "59209f1c",
   "metadata": {
    "slideshow": {
     "slide_type": "slide"
    }
   },
   "source": [
    "<p align=\"center\">\n",
    "<img src=\"https://matthieumeo.github.io/pycsou/html/_images/pycsou.png\" alt= “” width=65%>\n",
    "</p>\n",
    "\n",
    "# A High Performance Computational Imaging Framework for Python"
   ]
  },
  {
   "cell_type": "code",
   "execution_count": null,
   "id": "33333424",
   "metadata": {},
   "outputs": [],
   "source": [
    "# Load data\n",
    "\n",
    "from utils import downsample_volume, epfl_deconv_data\n",
    "\n",
    "y, psf = [], []\n",
    "for channel in range(3):\n",
    "    y_, psf_ = epfl_deconv_data(channel)\n",
    "    y_ = downsample_volume(y_, 2)\n",
    "    psf_ = downsample_volume(psf_, 2)\n",
    "\n",
    "    import cupy as cp\n",
    "\n",
    "    y_ = cp.asarray(y_)\n",
    "    psf_ = cp.asarray(psf_)\n",
    "\n",
    "    # Same preprocessing as in Scico\n",
    "    y_ -= y_.min()\n",
    "    y_ /= y_.max()\n",
    "    psf_ /= psf_.sum()\n",
    "\n",
    "    y.append(y_)\n",
    "    psf.append(psf_)\n",
    "\n",
    "y = cp.stack(y)\n",
    "psf = cp.stack(psf)"
   ]
  },
  {
   "cell_type": "code",
   "execution_count": null,
   "id": "b960e00d",
   "metadata": {},
   "outputs": [],
   "source": [
    "print(f\"{y.shape=}\")\n",
    "print(f\"{psf.shape=}\")"
   ]
  },
  {
   "cell_type": "code",
   "execution_count": null,
   "id": "8dd5fa61",
   "metadata": {
    "scrolled": true
   },
   "outputs": [],
   "source": [
    "viewer = napari.view_image(y.get().T, rgb=True)\n",
    "viewer = napari.view_image(psf.get().T, rgb=True)"
   ]
  },
  {
   "cell_type": "code",
   "execution_count": null,
   "id": "3ef51366",
   "metadata": {},
   "outputs": [],
   "source": [
    "# Scico pads and creates a mask\n",
    "\n",
    "# padding = [[0, p] for p in snp.array(psf.shape) - 1]\n",
    "# y_pad = snp.pad(y, padding)\n",
    "# mask = snp.pad(snp.ones_like(y), padding)"
   ]
  },
  {
   "cell_type": "markdown",
   "id": "afa000ab",
   "metadata": {},
   "source": [
    "## Compute pseudo-inverse solution"
   ]
  },
  {
   "cell_type": "code",
   "execution_count": null,
   "id": "400a47db",
   "metadata": {},
   "outputs": [],
   "source": [
    "# Create operators.\n",
    "# M = linop.Diagonal(mask)\n",
    "\n",
    "import pycsou.runtime as pycrt\n",
    "from pycsou.operator import block_diag\n",
    "from pycsou.operator.linop.base import DiagonalOp\n",
    "from pycsou.operator.linop.fft import FFT\n",
    "from pycsou.util.complex import view_as_complex, view_as_real\n",
    "\n",
    "arg_shape = psf[0].shape\n",
    "ndim = psf[0].ndim\n",
    "size = psf[0].size\n",
    "\n",
    "fft = FFT(arg_shape=arg_shape, axes=tuple(np.arange(ndim)), real=True)\n",
    "fft.lipschitz(tight=True)\n",
    "\n",
    "fft = block_diag([fft, fft, fft])\n",
    "\n",
    "psf_fourier = DiagonalOp(view_as_real(abs(view_as_complex(fft(psf.ravel()))) + 0j))\n",
    "\n",
    "convolve = (1 / size) * fft.T * psf_fourier * fft"
   ]
  },
  {
   "cell_type": "code",
   "execution_count": null,
   "id": "573d544e",
   "metadata": {},
   "outputs": [],
   "source": [
    "y_pinv = convolve.pinv(\n",
    "    y.ravel(), damp=1e-2, kwargs_init=dict(show_progress=False)\n",
    ").reshape(y.shape)\n",
    "y_pinv /= y_pinv.max()"
   ]
  },
  {
   "cell_type": "code",
   "execution_count": null,
   "id": "1e3ef119",
   "metadata": {},
   "outputs": [],
   "source": [
    "imshow_compare(y[..., y.shape[3] // 2], y_pinv[..., y.shape[3] // 2])"
   ]
  },
  {
   "cell_type": "code",
   "execution_count": null,
   "id": "3dc97e9b",
   "metadata": {},
   "outputs": [],
   "source": [
    "viewer = napari.Viewer()\n",
    "viewer.add_image(y.get(), name=\"original\")\n",
    "viewer.add_image(y_pinv.get(), name=\"pinv\")"
   ]
  },
  {
   "cell_type": "markdown",
   "id": "4a035527",
   "metadata": {},
   "source": [
    "# Demo: Bayesian Image Deconvolution\n",
    "$$\\arg \\min_{\\mathbf{x}} \\; \\frac{1}{2} \\|\\mathbf{y} - \\mathbf{F} \\mathbf{x}\n",
    "  \\|_2^2 + \\lambda \\| \\nabla \\mathbf{x} \\|_{2,1} +\n",
    "  \\iota_{\\mathrm{+}}(\\mathbf{x}) \\;,$$"
   ]
  },
  {
   "cell_type": "code",
   "execution_count": null,
   "id": "40a01145",
   "metadata": {
    "scrolled": true
   },
   "outputs": [],
   "source": [
    "from pycsou.operator import Gradient, L1Norm, L21Norm, PositiveOrthant\n",
    "\n",
    "range_constraint = PositiveOrthant(dim=y.size)\n",
    "\n",
    "sl2 = SquaredL2Norm(dim=y.size).asloss(y.ravel())\n",
    "sl2.diff_lipschitz()\n",
    "grad = Gradient(arg_shape=arg_shape, diff_method=\"gd\", sigma=[2.0, 2.0, 1.0], gpu=True)\n",
    "grad = block_diag([grad, grad, grad])\n",
    "grad.lipschitz(tight=False, tol=0.1)\n",
    "\n",
    "\n",
    "# l1 = L1Norm(dim=grad.codim)\n",
    "l21 = L21Norm(\n",
    "    arg_shape=(\n",
    "        3,\n",
    "        ndim,\n",
    "    )\n",
    "    + arg_shape,\n",
    "    l2_axis=(1),\n",
    ")  # Compute l2 norm on gradient vector\n",
    "\n",
    "\n",
    "loss = sl2 * convolve\n",
    "loss.diff_lipschitz()"
   ]
  },
  {
   "cell_type": "code",
   "execution_count": null,
   "id": "2ea6aa77",
   "metadata": {},
   "outputs": [],
   "source": [
    "from pycsou.opt.solver import CV\n",
    "from pycsou.opt.stop import MaxIter, RelError\n",
    "\n",
    "# Stopping criterion\n",
    "default_stop_crit = (\n",
    "    RelError(eps=1e-2, var=\"x\", f=None, norm=2, satisfy_all=True)\n",
    "    & RelError(eps=1e-2, var=\"z\", f=None, norm=2, satisfy_all=True)\n",
    "    & MaxIter(20)\n",
    ") | MaxIter(100)\n",
    "\n",
    "λ = 2e-6  # parameter borrowed from Scico example\n",
    "# Initialize solver (Condat-Vu primal-dual splitting algorithm in this case)\n",
    "solver = CV(\n",
    "    f=loss, g=range_constraint, h=λ * l21, K=grad, show_progress=True, verbosity=50\n",
    ")\n",
    "\n",
    "# Fit\n",
    "with pycrt.Precision(pycrt.Width.SINGLE):\n",
    "    solver.fit(x0=cp.zeros(y.size), tuning_strategy=2, stop_crit=default_stop_crit)\n",
    "    y_tv = solver.solution().reshape(y.shape)\n",
    "    y_tv /= y_tv.max()"
   ]
  },
  {
   "cell_type": "code",
   "execution_count": null,
   "id": "dcb542d0",
   "metadata": {},
   "outputs": [],
   "source": [
    "imshow_compare(y[..., y.shape[3] // 2], y_tv[..., y.shape[3] // 2])"
   ]
  },
  {
   "cell_type": "code",
   "execution_count": null,
   "id": "d79f1953",
   "metadata": {},
   "outputs": [],
   "source": [
    "viewer = napari.Viewer()\n",
    "viewer.add_image(y.get().T, name=\"original\", rgb=True)\n",
    "viewer.add_image(y_tv.get().T, name=\"TV\", rgb=True)"
   ]
  }
 ],
 "metadata": {
  "celltoolbar": "Slideshow",
  "kernelspec": {
   "display_name": "Python 3 (ipykernel)",
   "language": "python",
   "name": "python3"
  },
  "language_info": {
   "codemirror_mode": {
    "name": "ipython",
    "version": 3
   },
   "file_extension": ".py",
   "mimetype": "text/x-python",
   "name": "python",
   "nbconvert_exporter": "python",
   "pygments_lexer": "ipython3",
   "version": "3.10.11"
  },
  "latex_envs": {
   "LaTeX_envs_menu_present": true,
   "autoclose": false,
   "autocomplete": true,
   "bibliofile": "biblio.bib",
   "cite_by": "apalike",
   "current_citInitial": 1,
   "eqLabelWithNumbers": true,
   "eqNumInitial": 1,
   "hotkeys": {
    "equation": "Ctrl-E",
    "itemize": "Ctrl-I"
   },
   "labels_anchors": false,
   "latex_user_defs": false,
   "report_style_numbering": true,
   "user_envs_cfg": false
  },
  "rise": {
   "footer": "Matthieu Simeoni, EPFL Hub for Advanced Image Reconstruction (AIR)",
   "progress": true
  },
  "varInspector": {
   "cols": {
    "lenName": 16,
    "lenType": 16,
    "lenVar": 40
   },
   "kernels_config": {
    "python": {
     "delete_cmd_postfix": "",
     "delete_cmd_prefix": "del ",
     "library": "var_list.py",
     "varRefreshCmd": "print(var_dic_list())"
    },
    "r": {
     "delete_cmd_postfix": ") ",
     "delete_cmd_prefix": "rm(",
     "library": "var_list.r",
     "varRefreshCmd": "cat(var_dic_list()) "
    }
   },
   "types_to_exclude": [
    "module",
    "function",
    "builtin_function_or_method",
    "instance",
    "_Feature"
   ],
   "window_display": false
  }
 },
 "nbformat": 4,
 "nbformat_minor": 5
}
